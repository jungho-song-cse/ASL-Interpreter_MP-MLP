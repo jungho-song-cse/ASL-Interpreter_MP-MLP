{
 "cells": [
  {
   "cell_type": "code",
   "execution_count": 1,
   "metadata": {
    "id": "igMyGnjE9hEp"
   },
   "outputs": [],
   "source": [
    "import csv\n",
    "\n",
    "import numpy as np\n",
    "import tensorflow as tf\n",
    "from sklearn.model_selection import train_test_split\n",
    "\n",
    "RANDOM_SEED = 42"
   ]
  },
  {
   "cell_type": "code",
   "execution_count": 2,
   "metadata": {
    "id": "9NvZP2Zn9hEy"
   },
   "outputs": [],
   "source": [
    "dataset = 'model/keypoint_classifier/keypoint.csv'\n",
    "model_save_path = 'model/keypoint_classifier/keypoint_classifier.hdf5'\n",
    "tflite_save_path = 'model/keypoint_classifier/keypoint_classifier.tflite'"
   ]
  },
  {
   "cell_type": "code",
   "execution_count": 3,
   "metadata": {
    "id": "du4kodXL9hEz"
   },
   "outputs": [],
   "source": [
    "NUM_CLASSES = 10"
   ]
  },
  {
   "cell_type": "code",
   "execution_count": 4,
   "metadata": {
    "id": "QT5ZqtEz9hE0"
   },
   "outputs": [],
   "source": [
    "X_dataset = np.loadtxt(dataset, delimiter=',', dtype='float32', usecols=list(range(1, (21 * 2) + 1)))"
   ]
  },
  {
   "cell_type": "code",
   "execution_count": 5,
   "metadata": {
    "id": "QmoKFsp49hE0"
   },
   "outputs": [],
   "source": [
    "y_dataset = np.loadtxt(dataset, delimiter=',', dtype='int32', usecols=(0))"
   ]
  },
  {
   "cell_type": "code",
   "execution_count": 6,
   "metadata": {
    "id": "xQU7JTZ_9hE0"
   },
   "outputs": [],
   "source": [
    "X_train, X_test, y_train, y_test = train_test_split(X_dataset, y_dataset, train_size=0.75, random_state=RANDOM_SEED)"
   ]
  },
  {
   "cell_type": "code",
   "execution_count": 7,
   "metadata": {
    "id": "vHBmUf1t9hE1"
   },
   "outputs": [],
   "source": [
    "model = tf.keras.models.Sequential([\n",
    "    tf.keras.layers.Input((21 * 2, )),\n",
    "    #tf.keras.layers.Dropout(0.2),\n",
    "    tf.keras.layers.Dense(20, activation='relu'),\n",
    "    #tf.keras.layers.Dropout(0.4),\n",
    "    tf.keras.layers.Dense(10, activation='relu'),\n",
    "    tf.keras.layers.Dense(NUM_CLASSES, activation='softmax')\n",
    "])"
   ]
  },
  {
   "cell_type": "code",
   "execution_count": 8,
   "metadata": {
    "colab": {
     "base_uri": "https://localhost:8080/"
    },
    "id": "ypqky9tc9hE1",
    "outputId": "5db082bb-30e3-4110-bf63-a1ee777ecd46"
   },
   "outputs": [
    {
     "name": "stdout",
     "output_type": "stream",
     "text": [
      "Model: \"sequential\"\n",
      "_________________________________________________________________\n",
      " Layer (type)                Output Shape              Param #   \n",
      "=================================================================\n",
      " dense (Dense)               (None, 20)                860       \n",
      "                                                                 \n",
      " dense_1 (Dense)             (None, 10)                210       \n",
      "                                                                 \n",
      " dense_2 (Dense)             (None, 10)                110       \n",
      "                                                                 \n",
      "=================================================================\n",
      "Total params: 1,180\n",
      "Trainable params: 1,180\n",
      "Non-trainable params: 0\n",
      "_________________________________________________________________\n"
     ]
    }
   ],
   "source": [
    "model.summary()  # tf.keras.utils.plot_model(model, show_shapes=True)"
   ]
  },
  {
   "cell_type": "code",
   "execution_count": 9,
   "metadata": {
    "id": "MbMjOflQ9hE1"
   },
   "outputs": [],
   "source": [
    "# Model checkpoint callback\n",
    "cp_callback = tf.keras.callbacks.ModelCheckpoint(\n",
    "    model_save_path, verbose=1, save_weights_only=False)\n",
    "# Callback for early stopping\n",
    "es_callback = tf.keras.callbacks.EarlyStopping(verbose=1, patience=20)"
   ]
  },
  {
   "cell_type": "code",
   "execution_count": 10,
   "metadata": {
    "id": "c3Dac0M_9hE2"
   },
   "outputs": [],
   "source": [
    "# Model compilation\n",
    "model.compile(\n",
    "    optimizer='adam',\n",
    "    loss='sparse_categorical_crossentropy',\n",
    "    metrics=['accuracy']\n",
    ")"
   ]
  },
  {
   "cell_type": "markdown",
   "metadata": {
    "id": "7XI0j1Iu9hE2"
   },
   "source": [
    "# Model training"
   ]
  },
  {
   "cell_type": "code",
   "execution_count": 11,
   "metadata": {
    "colab": {
     "base_uri": "https://localhost:8080/"
    },
    "id": "WirBl-JE9hE3",
    "outputId": "71b30ca2-8294-4d9d-8aa2-800d90d399de",
    "scrolled": true
   },
   "outputs": [
    {
     "name": "stdout",
     "output_type": "stream",
     "text": [
      "Epoch 1/1000\n"
     ]
    },
    {
     "name": "stderr",
     "output_type": "stream",
     "text": [
      "2023-01-19 13:35:40.191222: W tensorflow/tsl/platform/profile_utils/cpu_utils.cc:128] Failed to get CPU frequency: 0 Hz\n"
     ]
    },
    {
     "name": "stdout",
     "output_type": "stream",
     "text": [
      "214/223 [===========================>..] - ETA: 0s - loss: 2.0424 - accuracy: 0.2812\n",
      "Epoch 1: saving model to model/keypoint_classifier/keypoint_classifier.hdf5\n",
      "223/223 [==============================] - 0s 985us/step - loss: 2.0310 - accuracy: 0.2874 - val_loss: 1.7139 - val_accuracy: 0.4723\n",
      "Epoch 2/1000\n",
      "121/223 [===============>..............] - ETA: 0s - loss: 1.4798 - accuracy: 0.5946\n",
      "Epoch 2: saving model to model/keypoint_classifier/keypoint_classifier.hdf5\n",
      "223/223 [==============================] - 0s 615us/step - loss: 1.3063 - accuracy: 0.6442 - val_loss: 0.9551 - val_accuracy: 0.7425\n",
      "Epoch 3/1000\n",
      "110/223 [=============>................] - ETA: 0s - loss: 0.8294 - accuracy: 0.7871\n",
      "Epoch 3: saving model to model/keypoint_classifier/keypoint_classifier.hdf5\n",
      "223/223 [==============================] - 0s 652us/step - loss: 0.7229 - accuracy: 0.8260 - val_loss: 0.5352 - val_accuracy: 0.8572\n",
      "Epoch 4/1000\n",
      "202/223 [==========================>...] - ETA: 0s - loss: 0.4297 - accuracy: 0.9191\n",
      "Epoch 4: saving model to model/keypoint_classifier/keypoint_classifier.hdf5\n",
      "223/223 [==============================] - 0s 707us/step - loss: 0.4208 - accuracy: 0.9220 - val_loss: 0.3297 - val_accuracy: 0.9485\n",
      "Epoch 5/1000\n",
      "208/223 [==========================>...] - ETA: 0s - loss: 0.2673 - accuracy: 0.9613\n",
      "Epoch 5: saving model to model/keypoint_classifier/keypoint_classifier.hdf5\n",
      "223/223 [==============================] - 0s 688us/step - loss: 0.2640 - accuracy: 0.9625 - val_loss: 0.2119 - val_accuracy: 0.9729\n",
      "Epoch 6/1000\n",
      "219/223 [============================>.] - ETA: 0s - loss: 0.1725 - accuracy: 0.9821\n",
      "Epoch 6: saving model to model/keypoint_classifier/keypoint_classifier.hdf5\n",
      "223/223 [==============================] - 0s 676us/step - loss: 0.1719 - accuracy: 0.9821 - val_loss: 0.1408 - val_accuracy: 0.9858\n",
      "Epoch 7/1000\n",
      "204/223 [==========================>...] - ETA: 0s - loss: 0.1192 - accuracy: 0.9899\n",
      "Epoch 7: saving model to model/keypoint_classifier/keypoint_classifier.hdf5\n",
      "223/223 [==============================] - 0s 699us/step - loss: 0.1188 - accuracy: 0.9897 - val_loss: 0.1021 - val_accuracy: 0.9922\n",
      "Epoch 8/1000\n",
      "111/223 [=============>................] - ETA: 0s - loss: 0.0949 - accuracy: 0.9918\n",
      "Epoch 8: saving model to model/keypoint_classifier/keypoint_classifier.hdf5\n",
      "223/223 [==============================] - 0s 641us/step - loss: 0.0884 - accuracy: 0.9923 - val_loss: 0.0773 - val_accuracy: 0.9927\n",
      "Epoch 9/1000\n",
      "117/223 [==============>...............] - ETA: 0s - loss: 0.0761 - accuracy: 0.9921\n",
      "Epoch 9: saving model to model/keypoint_classifier/keypoint_classifier.hdf5\n",
      "223/223 [==============================] - 0s 643us/step - loss: 0.0692 - accuracy: 0.9933 - val_loss: 0.0616 - val_accuracy: 0.9930\n",
      "Epoch 10/1000\n",
      "221/223 [============================>.] - ETA: 0s - loss: 0.0575 - accuracy: 0.9940\n",
      "Epoch 10: saving model to model/keypoint_classifier/keypoint_classifier.hdf5\n",
      "223/223 [==============================] - 0s 658us/step - loss: 0.0573 - accuracy: 0.9940 - val_loss: 0.0518 - val_accuracy: 0.9936\n",
      "Epoch 11/1000\n",
      "121/223 [===============>..............] - ETA: 0s - loss: 0.0498 - accuracy: 0.9941\n",
      "Epoch 11: saving model to model/keypoint_classifier/keypoint_classifier.hdf5\n",
      "223/223 [==============================] - 0s 610us/step - loss: 0.0494 - accuracy: 0.9941 - val_loss: 0.0453 - val_accuracy: 0.9940\n",
      "Epoch 12/1000\n",
      "119/223 [===============>..............] - ETA: 0s - loss: 0.0457 - accuracy: 0.9943\n",
      "Epoch 12: saving model to model/keypoint_classifier/keypoint_classifier.hdf5\n",
      "223/223 [==============================] - 0s 613us/step - loss: 0.0436 - accuracy: 0.9946 - val_loss: 0.0406 - val_accuracy: 0.9942\n",
      "Epoch 13/1000\n",
      "119/223 [===============>..............] - ETA: 0s - loss: 0.0399 - accuracy: 0.9948\n",
      "Epoch 13: saving model to model/keypoint_classifier/keypoint_classifier.hdf5\n",
      "223/223 [==============================] - 0s 615us/step - loss: 0.0391 - accuracy: 0.9950 - val_loss: 0.0361 - val_accuracy: 0.9941\n",
      "Epoch 14/1000\n",
      "113/223 [==============>...............] - ETA: 0s - loss: 0.0370 - accuracy: 0.9952\n",
      "Epoch 14: saving model to model/keypoint_classifier/keypoint_classifier.hdf5\n",
      "223/223 [==============================] - 0s 628us/step - loss: 0.0357 - accuracy: 0.9953 - val_loss: 0.0342 - val_accuracy: 0.9944\n",
      "Epoch 15/1000\n",
      "118/223 [==============>...............] - ETA: 0s - loss: 0.0338 - accuracy: 0.9956\n",
      "Epoch 15: saving model to model/keypoint_classifier/keypoint_classifier.hdf5\n",
      "223/223 [==============================] - 0s 618us/step - loss: 0.0331 - accuracy: 0.9952 - val_loss: 0.0303 - val_accuracy: 0.9949\n",
      "Epoch 16/1000\n",
      "118/223 [==============>...............] - ETA: 0s - loss: 0.0331 - accuracy: 0.9947\n",
      "Epoch 16: saving model to model/keypoint_classifier/keypoint_classifier.hdf5\n",
      "223/223 [==============================] - 0s 624us/step - loss: 0.0309 - accuracy: 0.9955 - val_loss: 0.0276 - val_accuracy: 0.9957\n",
      "Epoch 17/1000\n",
      "221/223 [============================>.] - ETA: 0s - loss: 0.0287 - accuracy: 0.9956\n",
      "Epoch 17: saving model to model/keypoint_classifier/keypoint_classifier.hdf5\n",
      "223/223 [==============================] - 0s 657us/step - loss: 0.0286 - accuracy: 0.9956 - val_loss: 0.0267 - val_accuracy: 0.9946\n",
      "Epoch 18/1000\n",
      "111/223 [=============>................] - ETA: 0s - loss: 0.0286 - accuracy: 0.9958\n",
      "Epoch 18: saving model to model/keypoint_classifier/keypoint_classifier.hdf5\n",
      "223/223 [==============================] - 0s 635us/step - loss: 0.0270 - accuracy: 0.9958 - val_loss: 0.0245 - val_accuracy: 0.9955\n",
      "Epoch 19/1000\n",
      "213/223 [===========================>..] - ETA: 0s - loss: 0.0264 - accuracy: 0.9957\n",
      "Epoch 19: saving model to model/keypoint_classifier/keypoint_classifier.hdf5\n",
      "223/223 [==============================] - 0s 667us/step - loss: 0.0260 - accuracy: 0.9958 - val_loss: 0.0222 - val_accuracy: 0.9957\n",
      "Epoch 20/1000\n",
      "117/223 [==============>...............] - ETA: 0s - loss: 0.0243 - accuracy: 0.9963\n",
      "Epoch 20: saving model to model/keypoint_classifier/keypoint_classifier.hdf5\n",
      "223/223 [==============================] - 0s 616us/step - loss: 0.0239 - accuracy: 0.9960 - val_loss: 0.0208 - val_accuracy: 0.9953\n",
      "Epoch 21/1000\n",
      "110/223 [=============>................] - ETA: 0s - loss: 0.0227 - accuracy: 0.9957\n",
      "Epoch 21: saving model to model/keypoint_classifier/keypoint_classifier.hdf5\n",
      "223/223 [==============================] - 0s 634us/step - loss: 0.0227 - accuracy: 0.9960 - val_loss: 0.0199 - val_accuracy: 0.9958\n",
      "Epoch 22/1000\n",
      "117/223 [==============>...............] - ETA: 0s - loss: 0.0194 - accuracy: 0.9968\n",
      "Epoch 22: saving model to model/keypoint_classifier/keypoint_classifier.hdf5\n",
      "223/223 [==============================] - 0s 615us/step - loss: 0.0209 - accuracy: 0.9963 - val_loss: 0.0183 - val_accuracy: 0.9960\n",
      "Epoch 23/1000\n",
      "118/223 [==============>...............] - ETA: 0s - loss: 0.0210 - accuracy: 0.9960\n",
      "Epoch 23: saving model to model/keypoint_classifier/keypoint_classifier.hdf5\n",
      "223/223 [==============================] - 0s 643us/step - loss: 0.0205 - accuracy: 0.9961 - val_loss: 0.0167 - val_accuracy: 0.9961\n",
      "Epoch 24/1000\n",
      "118/223 [==============>...............] - ETA: 0s - loss: 0.0188 - accuracy: 0.9963\n",
      "Epoch 24: saving model to model/keypoint_classifier/keypoint_classifier.hdf5\n",
      "223/223 [==============================] - 0s 645us/step - loss: 0.0193 - accuracy: 0.9961 - val_loss: 0.0165 - val_accuracy: 0.9960\n",
      "Epoch 25/1000\n",
      "106/223 [=============>................] - ETA: 0s - loss: 0.0172 - accuracy: 0.9967\n",
      "Epoch 25: saving model to model/keypoint_classifier/keypoint_classifier.hdf5\n",
      "223/223 [==============================] - 0s 643us/step - loss: 0.0179 - accuracy: 0.9967 - val_loss: 0.0151 - val_accuracy: 0.9967\n",
      "Epoch 26/1000\n",
      "119/223 [===============>..............] - ETA: 0s - loss: 0.0165 - accuracy: 0.9969\n",
      "Epoch 26: saving model to model/keypoint_classifier/keypoint_classifier.hdf5\n",
      "223/223 [==============================] - 0s 617us/step - loss: 0.0171 - accuracy: 0.9967 - val_loss: 0.0146 - val_accuracy: 0.9975\n",
      "Epoch 27/1000\n",
      "222/223 [============================>.] - ETA: 0s - loss: 0.0163 - accuracy: 0.9965\n",
      "Epoch 27: saving model to model/keypoint_classifier/keypoint_classifier.hdf5\n",
      "223/223 [==============================] - 0s 662us/step - loss: 0.0163 - accuracy: 0.9965 - val_loss: 0.0149 - val_accuracy: 0.9968\n"
     ]
    },
    {
     "name": "stdout",
     "output_type": "stream",
     "text": [
      "Epoch 28/1000\n",
      "222/223 [============================>.] - ETA: 0s - loss: 0.0157 - accuracy: 0.9969\n",
      "Epoch 28: saving model to model/keypoint_classifier/keypoint_classifier.hdf5\n",
      "223/223 [==============================] - 0s 652us/step - loss: 0.0157 - accuracy: 0.9969 - val_loss: 0.0139 - val_accuracy: 0.9975\n",
      "Epoch 29/1000\n",
      "122/223 [===============>..............] - ETA: 0s - loss: 0.0127 - accuracy: 0.9978\n",
      "Epoch 29: saving model to model/keypoint_classifier/keypoint_classifier.hdf5\n",
      "223/223 [==============================] - 0s 604us/step - loss: 0.0148 - accuracy: 0.9974 - val_loss: 0.0143 - val_accuracy: 0.9971\n",
      "Epoch 30/1000\n",
      "121/223 [===============>..............] - ETA: 0s - loss: 0.0128 - accuracy: 0.9972\n",
      "Epoch 30: saving model to model/keypoint_classifier/keypoint_classifier.hdf5\n",
      "223/223 [==============================] - 0s 611us/step - loss: 0.0143 - accuracy: 0.9973 - val_loss: 0.0131 - val_accuracy: 0.9973\n",
      "Epoch 31/1000\n",
      "121/223 [===============>..............] - ETA: 0s - loss: 0.0119 - accuracy: 0.9978\n",
      "Epoch 31: saving model to model/keypoint_classifier/keypoint_classifier.hdf5\n",
      "223/223 [==============================] - 0s 698us/step - loss: 0.0137 - accuracy: 0.9973 - val_loss: 0.0120 - val_accuracy: 0.9975\n",
      "Epoch 32/1000\n",
      "222/223 [============================>.] - ETA: 0s - loss: 0.0134 - accuracy: 0.9973\n",
      "Epoch 32: saving model to model/keypoint_classifier/keypoint_classifier.hdf5\n",
      "223/223 [==============================] - 0s 669us/step - loss: 0.0134 - accuracy: 0.9973 - val_loss: 0.0122 - val_accuracy: 0.9974\n",
      "Epoch 33/1000\n",
      "211/223 [===========================>..] - ETA: 0s - loss: 0.0133 - accuracy: 0.9974\n",
      "Epoch 33: saving model to model/keypoint_classifier/keypoint_classifier.hdf5\n",
      "223/223 [==============================] - 0s 677us/step - loss: 0.0128 - accuracy: 0.9975 - val_loss: 0.0116 - val_accuracy: 0.9975\n",
      "Epoch 34/1000\n",
      "114/223 [==============>...............] - ETA: 0s - loss: 0.0126 - accuracy: 0.9976\n",
      "Epoch 34: saving model to model/keypoint_classifier/keypoint_classifier.hdf5\n",
      "223/223 [==============================] - 0s 625us/step - loss: 0.0122 - accuracy: 0.9976 - val_loss: 0.0125 - val_accuracy: 0.9972\n",
      "Epoch 35/1000\n",
      "118/223 [==============>...............] - ETA: 0s - loss: 0.0124 - accuracy: 0.9972\n",
      "Epoch 35: saving model to model/keypoint_classifier/keypoint_classifier.hdf5\n",
      "223/223 [==============================] - 0s 615us/step - loss: 0.0121 - accuracy: 0.9975 - val_loss: 0.0109 - val_accuracy: 0.9974\n",
      "Epoch 36/1000\n",
      "120/223 [===============>..............] - ETA: 0s - loss: 0.0110 - accuracy: 0.9978\n",
      "Epoch 36: saving model to model/keypoint_classifier/keypoint_classifier.hdf5\n",
      "223/223 [==============================] - 0s 607us/step - loss: 0.0115 - accuracy: 0.9977 - val_loss: 0.0119 - val_accuracy: 0.9975\n",
      "Epoch 37/1000\n",
      "120/223 [===============>..............] - ETA: 0s - loss: 0.0120 - accuracy: 0.9973\n",
      "Epoch 37: saving model to model/keypoint_classifier/keypoint_classifier.hdf5\n",
      "223/223 [==============================] - 0s 607us/step - loss: 0.0111 - accuracy: 0.9977 - val_loss: 0.0144 - val_accuracy: 0.9971\n",
      "Epoch 38/1000\n",
      "118/223 [==============>...............] - ETA: 0s - loss: 0.0093 - accuracy: 0.9981\n",
      "Epoch 38: saving model to model/keypoint_classifier/keypoint_classifier.hdf5\n",
      "223/223 [==============================] - 0s 616us/step - loss: 0.0113 - accuracy: 0.9977 - val_loss: 0.0105 - val_accuracy: 0.9975\n",
      "Epoch 39/1000\n",
      "120/223 [===============>..............] - ETA: 0s - loss: 0.0096 - accuracy: 0.9980\n",
      "Epoch 39: saving model to model/keypoint_classifier/keypoint_classifier.hdf5\n",
      "223/223 [==============================] - 0s 613us/step - loss: 0.0102 - accuracy: 0.9979 - val_loss: 0.0115 - val_accuracy: 0.9962\n",
      "Epoch 40/1000\n",
      "121/223 [===============>..............] - ETA: 0s - loss: 0.0112 - accuracy: 0.9978\n",
      "Epoch 40: saving model to model/keypoint_classifier/keypoint_classifier.hdf5\n",
      "223/223 [==============================] - 0s 606us/step - loss: 0.0105 - accuracy: 0.9978 - val_loss: 0.0096 - val_accuracy: 0.9977\n",
      "Epoch 41/1000\n",
      "118/223 [==============>...............] - ETA: 0s - loss: 0.0107 - accuracy: 0.9978\n",
      "Epoch 41: saving model to model/keypoint_classifier/keypoint_classifier.hdf5\n",
      "223/223 [==============================] - 0s 613us/step - loss: 0.0100 - accuracy: 0.9978 - val_loss: 0.0097 - val_accuracy: 0.9974\n",
      "Epoch 42/1000\n",
      "118/223 [==============>...............] - ETA: 0s - loss: 0.0085 - accuracy: 0.9979\n",
      "Epoch 42: saving model to model/keypoint_classifier/keypoint_classifier.hdf5\n",
      "223/223 [==============================] - 0s 609us/step - loss: 0.0101 - accuracy: 0.9978 - val_loss: 0.0094 - val_accuracy: 0.9977\n",
      "Epoch 43/1000\n",
      "120/223 [===============>..............] - ETA: 0s - loss: 0.0088 - accuracy: 0.9979\n",
      "Epoch 43: saving model to model/keypoint_classifier/keypoint_classifier.hdf5\n",
      "223/223 [==============================] - 0s 617us/step - loss: 0.0098 - accuracy: 0.9976 - val_loss: 0.0110 - val_accuracy: 0.9973\n",
      "Epoch 44/1000\n",
      "120/223 [===============>..............] - ETA: 0s - loss: 0.0086 - accuracy: 0.9980    \n",
      "Epoch 44: saving model to model/keypoint_classifier/keypoint_classifier.hdf5\n",
      "223/223 [==============================] - 0s 612us/step - loss: 0.0094 - accuracy: 0.9979 - val_loss: 0.0097 - val_accuracy: 0.9976\n",
      "Epoch 45/1000\n",
      "120/223 [===============>..............] - ETA: 0s - loss: 0.0103 - accuracy: 0.9978\n",
      "Epoch 45: saving model to model/keypoint_classifier/keypoint_classifier.hdf5\n",
      "223/223 [==============================] - 0s 611us/step - loss: 0.0092 - accuracy: 0.9980 - val_loss: 0.0103 - val_accuracy: 0.9976\n",
      "Epoch 46/1000\n",
      "121/223 [===============>..............] - ETA: 0s - loss: 0.0089 - accuracy: 0.9981\n",
      "Epoch 46: saving model to model/keypoint_classifier/keypoint_classifier.hdf5\n",
      "223/223 [==============================] - 0s 605us/step - loss: 0.0090 - accuracy: 0.9980 - val_loss: 0.0087 - val_accuracy: 0.9978\n",
      "Epoch 47/1000\n",
      "120/223 [===============>..............] - ETA: 0s - loss: 0.0091 - accuracy: 0.9978\n",
      "Epoch 47: saving model to model/keypoint_classifier/keypoint_classifier.hdf5\n",
      "223/223 [==============================] - 0s 611us/step - loss: 0.0086 - accuracy: 0.9980 - val_loss: 0.0097 - val_accuracy: 0.9978\n",
      "Epoch 48/1000\n",
      "120/223 [===============>..............] - ETA: 0s - loss: 0.0096 - accuracy: 0.9981\n",
      "Epoch 48: saving model to model/keypoint_classifier/keypoint_classifier.hdf5\n",
      "223/223 [==============================] - 0s 608us/step - loss: 0.0082 - accuracy: 0.9983 - val_loss: 0.0087 - val_accuracy: 0.9976\n",
      "Epoch 49/1000\n",
      "119/223 [===============>..............] - ETA: 0s - loss: 0.0084 - accuracy: 0.9980\n",
      "Epoch 49: saving model to model/keypoint_classifier/keypoint_classifier.hdf5\n",
      "223/223 [==============================] - 0s 616us/step - loss: 0.0080 - accuracy: 0.9981 - val_loss: 0.0103 - val_accuracy: 0.9975\n",
      "Epoch 50/1000\n",
      "118/223 [==============>...............] - ETA: 0s - loss: 0.0083 - accuracy: 0.9981\n",
      "Epoch 50: saving model to model/keypoint_classifier/keypoint_classifier.hdf5\n",
      "223/223 [==============================] - 0s 615us/step - loss: 0.0082 - accuracy: 0.9980 - val_loss: 0.0082 - val_accuracy: 0.9978\n",
      "Epoch 51/1000\n",
      "115/223 [==============>...............] - ETA: 0s - loss: 0.0072 - accuracy: 0.9984\n",
      "Epoch 51: saving model to model/keypoint_classifier/keypoint_classifier.hdf5\n",
      "223/223 [==============================] - 0s 619us/step - loss: 0.0079 - accuracy: 0.9981 - val_loss: 0.0088 - val_accuracy: 0.9978\n",
      "Epoch 52/1000\n",
      "119/223 [===============>..............] - ETA: 0s - loss: 0.0070 - accuracy: 0.9982\n",
      "Epoch 52: saving model to model/keypoint_classifier/keypoint_classifier.hdf5\n",
      "223/223 [==============================] - 0s 611us/step - loss: 0.0079 - accuracy: 0.9980 - val_loss: 0.0091 - val_accuracy: 0.9977\n",
      "Epoch 53/1000\n",
      "119/223 [===============>..............] - ETA: 0s - loss: 0.0071 - accuracy: 0.9981\n",
      "Epoch 53: saving model to model/keypoint_classifier/keypoint_classifier.hdf5\n",
      "223/223 [==============================] - 0s 616us/step - loss: 0.0073 - accuracy: 0.9983 - val_loss: 0.0072 - val_accuracy: 0.9983\n",
      "Epoch 54/1000\n",
      "119/223 [===============>..............] - ETA: 0s - loss: 0.0077 - accuracy: 0.9979\n",
      "Epoch 54: saving model to model/keypoint_classifier/keypoint_classifier.hdf5\n"
     ]
    },
    {
     "name": "stdout",
     "output_type": "stream",
     "text": [
      "223/223 [==============================] - 0s 610us/step - loss: 0.0070 - accuracy: 0.9982 - val_loss: 0.0077 - val_accuracy: 0.9982\n",
      "Epoch 55/1000\n",
      "120/223 [===============>..............] - ETA: 0s - loss: 0.0067 - accuracy: 0.9984\n",
      "Epoch 55: saving model to model/keypoint_classifier/keypoint_classifier.hdf5\n",
      "223/223 [==============================] - 0s 608us/step - loss: 0.0070 - accuracy: 0.9983 - val_loss: 0.0083 - val_accuracy: 0.9976\n",
      "Epoch 56/1000\n",
      "121/223 [===============>..............] - ETA: 0s - loss: 0.0074 - accuracy: 0.9984\n",
      "Epoch 56: saving model to model/keypoint_classifier/keypoint_classifier.hdf5\n",
      "223/223 [==============================] - 0s 614us/step - loss: 0.0067 - accuracy: 0.9983 - val_loss: 0.0083 - val_accuracy: 0.9979\n",
      "Epoch 57/1000\n",
      "123/223 [===============>..............] - ETA: 0s - loss: 0.0074 - accuracy: 0.9982    \n",
      "Epoch 57: saving model to model/keypoint_classifier/keypoint_classifier.hdf5\n",
      "223/223 [==============================] - 0s 606us/step - loss: 0.0068 - accuracy: 0.9984 - val_loss: 0.0083 - val_accuracy: 0.9981\n",
      "Epoch 58/1000\n",
      "124/223 [===============>..............] - ETA: 0s - loss: 0.0076 - accuracy: 0.9980\n",
      "Epoch 58: saving model to model/keypoint_classifier/keypoint_classifier.hdf5\n",
      "223/223 [==============================] - 0s 604us/step - loss: 0.0067 - accuracy: 0.9983 - val_loss: 0.0079 - val_accuracy: 0.9978\n",
      "Epoch 59/1000\n",
      "122/223 [===============>..............] - ETA: 0s - loss: 0.0081 - accuracy: 0.9982\n",
      "Epoch 59: saving model to model/keypoint_classifier/keypoint_classifier.hdf5\n",
      "223/223 [==============================] - 0s 605us/step - loss: 0.0066 - accuracy: 0.9986 - val_loss: 0.0069 - val_accuracy: 0.9985\n",
      "Epoch 60/1000\n",
      "121/223 [===============>..............] - ETA: 0s - loss: 0.0056 - accuracy: 0.9985\n",
      "Epoch 60: saving model to model/keypoint_classifier/keypoint_classifier.hdf5\n",
      "223/223 [==============================] - 0s 607us/step - loss: 0.0063 - accuracy: 0.9985 - val_loss: 0.0085 - val_accuracy: 0.9985\n",
      "Epoch 61/1000\n",
      "120/223 [===============>..............] - ETA: 0s - loss: 0.0068 - accuracy: 0.9983\n",
      "Epoch 61: saving model to model/keypoint_classifier/keypoint_classifier.hdf5\n",
      "223/223 [==============================] - 0s 611us/step - loss: 0.0062 - accuracy: 0.9984 - val_loss: 0.0090 - val_accuracy: 0.9978\n",
      "Epoch 62/1000\n",
      "119/223 [===============>..............] - ETA: 0s - loss: 0.0070 - accuracy: 0.9982\n",
      "Epoch 62: saving model to model/keypoint_classifier/keypoint_classifier.hdf5\n",
      "223/223 [==============================] - 0s 610us/step - loss: 0.0062 - accuracy: 0.9984 - val_loss: 0.0071 - val_accuracy: 0.9986\n",
      "Epoch 63/1000\n",
      "119/223 [===============>..............] - ETA: 0s - loss: 0.0051 - accuracy: 0.9983    \n",
      "Epoch 63: saving model to model/keypoint_classifier/keypoint_classifier.hdf5\n",
      "223/223 [==============================] - 0s 613us/step - loss: 0.0059 - accuracy: 0.9984 - val_loss: 0.0063 - val_accuracy: 0.9982\n",
      "Epoch 64/1000\n",
      "118/223 [==============>...............] - ETA: 0s - loss: 0.0066 - accuracy: 0.9982\n",
      "Epoch 64: saving model to model/keypoint_classifier/keypoint_classifier.hdf5\n",
      "223/223 [==============================] - 0s 616us/step - loss: 0.0057 - accuracy: 0.9985 - val_loss: 0.0074 - val_accuracy: 0.9980\n",
      "Epoch 65/1000\n",
      "121/223 [===============>..............] - ETA: 0s - loss: 0.0044 - accuracy: 0.9989\n",
      "Epoch 65: saving model to model/keypoint_classifier/keypoint_classifier.hdf5\n",
      "223/223 [==============================] - 0s 609us/step - loss: 0.0056 - accuracy: 0.9986 - val_loss: 0.0078 - val_accuracy: 0.9979\n",
      "Epoch 66/1000\n",
      "114/223 [==============>...............] - ETA: 0s - loss: 0.0059 - accuracy: 0.9986    \n",
      "Epoch 66: saving model to model/keypoint_classifier/keypoint_classifier.hdf5\n",
      "223/223 [==============================] - 0s 626us/step - loss: 0.0056 - accuracy: 0.9988 - val_loss: 0.0061 - val_accuracy: 0.9982\n",
      "Epoch 67/1000\n",
      "120/223 [===============>..............] - ETA: 0s - loss: 0.0046 - accuracy: 0.9986\n",
      "Epoch 67: saving model to model/keypoint_classifier/keypoint_classifier.hdf5\n",
      "223/223 [==============================] - 0s 613us/step - loss: 0.0054 - accuracy: 0.9985 - val_loss: 0.0062 - val_accuracy: 0.9983\n",
      "Epoch 68/1000\n",
      "122/223 [===============>..............] - ETA: 0s - loss: 0.0060 - accuracy: 0.9983\n",
      "Epoch 68: saving model to model/keypoint_classifier/keypoint_classifier.hdf5\n",
      "223/223 [==============================] - 0s 607us/step - loss: 0.0054 - accuracy: 0.9985 - val_loss: 0.0062 - val_accuracy: 0.9986\n",
      "Epoch 69/1000\n",
      "123/223 [===============>..............] - ETA: 0s - loss: 0.0058 - accuracy: 0.9985    \n",
      "Epoch 69: saving model to model/keypoint_classifier/keypoint_classifier.hdf5\n",
      "223/223 [==============================] - 0s 602us/step - loss: 0.0051 - accuracy: 0.9987 - val_loss: 0.0059 - val_accuracy: 0.9984\n",
      "Epoch 70/1000\n",
      "119/223 [===============>..............] - ETA: 0s - loss: 0.0063 - accuracy: 0.9982    \n",
      "Epoch 70: saving model to model/keypoint_classifier/keypoint_classifier.hdf5\n",
      "223/223 [==============================] - 0s 614us/step - loss: 0.0052 - accuracy: 0.9986 - val_loss: 0.0060 - val_accuracy: 0.9985\n",
      "Epoch 71/1000\n",
      "114/223 [==============>...............] - ETA: 0s - loss: 0.0050 - accuracy: 0.9987    \n",
      "Epoch 71: saving model to model/keypoint_classifier/keypoint_classifier.hdf5\n",
      "223/223 [==============================] - 0s 625us/step - loss: 0.0050 - accuracy: 0.9987 - val_loss: 0.0061 - val_accuracy: 0.9984\n",
      "Epoch 72/1000\n",
      "122/223 [===============>..............] - ETA: 0s - loss: 0.0051 - accuracy: 0.9987\n",
      "Epoch 72: saving model to model/keypoint_classifier/keypoint_classifier.hdf5\n",
      "223/223 [==============================] - 0s 605us/step - loss: 0.0047 - accuracy: 0.9988 - val_loss: 0.0062 - val_accuracy: 0.9984\n",
      "Epoch 73/1000\n",
      "122/223 [===============>..............] - ETA: 0s - loss: 0.0048 - accuracy: 0.9987\n",
      "Epoch 73: saving model to model/keypoint_classifier/keypoint_classifier.hdf5\n",
      "223/223 [==============================] - 0s 610us/step - loss: 0.0050 - accuracy: 0.9986 - val_loss: 0.0063 - val_accuracy: 0.9985\n",
      "Epoch 74/1000\n",
      "122/223 [===============>..............] - ETA: 0s - loss: 0.0051 - accuracy: 0.9988\n",
      "Epoch 74: saving model to model/keypoint_classifier/keypoint_classifier.hdf5\n",
      "223/223 [==============================] - 0s 606us/step - loss: 0.0046 - accuracy: 0.9989 - val_loss: 0.0060 - val_accuracy: 0.9986\n",
      "Epoch 75/1000\n",
      "118/223 [==============>...............] - ETA: 0s - loss: 0.0035 - accuracy: 0.9994\n",
      "Epoch 75: saving model to model/keypoint_classifier/keypoint_classifier.hdf5\n",
      "223/223 [==============================] - 0s 613us/step - loss: 0.0046 - accuracy: 0.9989 - val_loss: 0.0058 - val_accuracy: 0.9985\n",
      "Epoch 76/1000\n",
      "119/223 [===============>..............] - ETA: 0s - loss: 0.0055 - accuracy: 0.9986\n",
      "Epoch 76: saving model to model/keypoint_classifier/keypoint_classifier.hdf5\n",
      "223/223 [==============================] - 0s 613us/step - loss: 0.0049 - accuracy: 0.9987 - val_loss: 0.0055 - val_accuracy: 0.9988\n",
      "Epoch 77/1000\n",
      "118/223 [==============>...............] - ETA: 0s - loss: 0.0047 - accuracy: 0.9985\n",
      "Epoch 77: saving model to model/keypoint_classifier/keypoint_classifier.hdf5\n",
      "223/223 [==============================] - 0s 614us/step - loss: 0.0046 - accuracy: 0.9987 - val_loss: 0.0054 - val_accuracy: 0.9983\n",
      "Epoch 78/1000\n",
      "118/223 [==============>...............] - ETA: 0s - loss: 0.0037 - accuracy: 0.9991\n",
      "Epoch 78: saving model to model/keypoint_classifier/keypoint_classifier.hdf5\n",
      "223/223 [==============================] - 0s 618us/step - loss: 0.0044 - accuracy: 0.9988 - val_loss: 0.0054 - val_accuracy: 0.9985\n",
      "Epoch 79/1000\n",
      "121/223 [===============>..............] - ETA: 0s - loss: 0.0039 - accuracy: 0.9990\n",
      "Epoch 79: saving model to model/keypoint_classifier/keypoint_classifier.hdf5\n",
      "223/223 [==============================] - 0s 608us/step - loss: 0.0045 - accuracy: 0.9989 - val_loss: 0.0048 - val_accuracy: 0.9988\n",
      "Epoch 80/1000\n",
      "117/223 [==============>...............] - ETA: 0s - loss: 0.0042 - accuracy: 0.9988\n",
      "Epoch 80: saving model to model/keypoint_classifier/keypoint_classifier.hdf5\n",
      "223/223 [==============================] - 0s 617us/step - loss: 0.0042 - accuracy: 0.9989 - val_loss: 0.0059 - val_accuracy: 0.9987\n",
      "Epoch 81/1000\n"
     ]
    },
    {
     "name": "stdout",
     "output_type": "stream",
     "text": [
      "120/223 [===============>..............] - ETA: 0s - loss: 0.0039 - accuracy: 0.9988    \n",
      "Epoch 81: saving model to model/keypoint_classifier/keypoint_classifier.hdf5\n",
      "223/223 [==============================] - 0s 623us/step - loss: 0.0040 - accuracy: 0.9989 - val_loss: 0.0057 - val_accuracy: 0.9985\n",
      "Epoch 82/1000\n",
      "122/223 [===============>..............] - ETA: 0s - loss: 0.0048 - accuracy: 0.9988\n",
      "Epoch 82: saving model to model/keypoint_classifier/keypoint_classifier.hdf5\n",
      "223/223 [==============================] - 0s 606us/step - loss: 0.0039 - accuracy: 0.9989 - val_loss: 0.0050 - val_accuracy: 0.9986\n",
      "Epoch 83/1000\n",
      "121/223 [===============>..............] - ETA: 0s - loss: 0.0031 - accuracy: 0.9993    \n",
      "Epoch 83: saving model to model/keypoint_classifier/keypoint_classifier.hdf5\n",
      "223/223 [==============================] - 0s 610us/step - loss: 0.0038 - accuracy: 0.9991 - val_loss: 0.0056 - val_accuracy: 0.9984\n",
      "Epoch 84/1000\n",
      "122/223 [===============>..............] - ETA: 0s - loss: 0.0046 - accuracy: 0.9988\n",
      "Epoch 84: saving model to model/keypoint_classifier/keypoint_classifier.hdf5\n",
      "223/223 [==============================] - 0s 602us/step - loss: 0.0037 - accuracy: 0.9990 - val_loss: 0.0054 - val_accuracy: 0.9985\n",
      "Epoch 85/1000\n",
      "121/223 [===============>..............] - ETA: 0s - loss: 0.0036 - accuracy: 0.9990    \n",
      "Epoch 85: saving model to model/keypoint_classifier/keypoint_classifier.hdf5\n",
      "223/223 [==============================] - 0s 609us/step - loss: 0.0039 - accuracy: 0.9989 - val_loss: 0.0060 - val_accuracy: 0.9984\n",
      "Epoch 86/1000\n",
      "122/223 [===============>..............] - ETA: 0s - loss: 0.0046 - accuracy: 0.9987\n",
      "Epoch 86: saving model to model/keypoint_classifier/keypoint_classifier.hdf5\n",
      "223/223 [==============================] - 0s 606us/step - loss: 0.0040 - accuracy: 0.9990 - val_loss: 0.0051 - val_accuracy: 0.9991\n",
      "Epoch 87/1000\n",
      "121/223 [===============>..............] - ETA: 0s - loss: 0.0031 - accuracy: 0.9994\n",
      "Epoch 87: saving model to model/keypoint_classifier/keypoint_classifier.hdf5\n",
      "223/223 [==============================] - 0s 608us/step - loss: 0.0035 - accuracy: 0.9992 - val_loss: 0.0052 - val_accuracy: 0.9985\n",
      "Epoch 88/1000\n",
      "120/223 [===============>..............] - ETA: 0s - loss: 0.0036 - accuracy: 0.9990\n",
      "Epoch 88: saving model to model/keypoint_classifier/keypoint_classifier.hdf5\n",
      "223/223 [==============================] - 0s 605us/step - loss: 0.0036 - accuracy: 0.9991 - val_loss: 0.0065 - val_accuracy: 0.9983\n",
      "Epoch 89/1000\n",
      "115/223 [==============>...............] - ETA: 0s - loss: 0.0029 - accuracy: 0.9994\n",
      "Epoch 89: saving model to model/keypoint_classifier/keypoint_classifier.hdf5\n",
      "223/223 [==============================] - 0s 619us/step - loss: 0.0034 - accuracy: 0.9991 - val_loss: 0.0053 - val_accuracy: 0.9985\n",
      "Epoch 90/1000\n",
      "119/223 [===============>..............] - ETA: 0s - loss: 0.0041 - accuracy: 0.9991\n",
      "Epoch 90: saving model to model/keypoint_classifier/keypoint_classifier.hdf5\n",
      "223/223 [==============================] - 0s 607us/step - loss: 0.0033 - accuracy: 0.9993 - val_loss: 0.0053 - val_accuracy: 0.9989\n",
      "Epoch 91/1000\n",
      "119/223 [===============>..............] - ETA: 0s - loss: 0.0043 - accuracy: 0.9989    \n",
      "Epoch 91: saving model to model/keypoint_classifier/keypoint_classifier.hdf5\n",
      "223/223 [==============================] - 0s 612us/step - loss: 0.0033 - accuracy: 0.9992 - val_loss: 0.0048 - val_accuracy: 0.9986\n",
      "Epoch 92/1000\n",
      "121/223 [===============>..............] - ETA: 0s - loss: 0.0027 - accuracy: 0.9992    \n",
      "Epoch 92: saving model to model/keypoint_classifier/keypoint_classifier.hdf5\n",
      "223/223 [==============================] - 0s 605us/step - loss: 0.0032 - accuracy: 0.9991 - val_loss: 0.0048 - val_accuracy: 0.9986\n",
      "Epoch 93/1000\n",
      "119/223 [===============>..............] - ETA: 0s - loss: 0.0025 - accuracy: 0.9993\n",
      "Epoch 93: saving model to model/keypoint_classifier/keypoint_classifier.hdf5\n",
      "223/223 [==============================] - 0s 612us/step - loss: 0.0032 - accuracy: 0.9992 - val_loss: 0.0056 - val_accuracy: 0.9982\n",
      "Epoch 94/1000\n",
      "121/223 [===============>..............] - ETA: 0s - loss: 0.0026 - accuracy: 0.9993\n",
      "Epoch 94: saving model to model/keypoint_classifier/keypoint_classifier.hdf5\n",
      "223/223 [==============================] - 0s 631us/step - loss: 0.0032 - accuracy: 0.9991 - val_loss: 0.0049 - val_accuracy: 0.9986\n",
      "Epoch 95/1000\n",
      "120/223 [===============>..............] - ETA: 0s - loss: 0.0035 - accuracy: 0.9992    \n",
      "Epoch 95: saving model to model/keypoint_classifier/keypoint_classifier.hdf5\n",
      "223/223 [==============================] - 0s 609us/step - loss: 0.0032 - accuracy: 0.9992 - val_loss: 0.0049 - val_accuracy: 0.9989\n",
      "Epoch 96/1000\n",
      "123/223 [===============>..............] - ETA: 0s - loss: 0.0032 - accuracy: 0.9990    \n",
      "Epoch 96: saving model to model/keypoint_classifier/keypoint_classifier.hdf5\n",
      "223/223 [==============================] - 0s 603us/step - loss: 0.0030 - accuracy: 0.9992 - val_loss: 0.0045 - val_accuracy: 0.9989\n",
      "Epoch 97/1000\n",
      "120/223 [===============>..............] - ETA: 0s - loss: 0.0034 - accuracy: 0.9993    \n",
      "Epoch 97: saving model to model/keypoint_classifier/keypoint_classifier.hdf5\n",
      "223/223 [==============================] - 0s 610us/step - loss: 0.0029 - accuracy: 0.9993 - val_loss: 0.0046 - val_accuracy: 0.9987\n",
      "Epoch 98/1000\n",
      "119/223 [===============>..............] - ETA: 0s - loss: 0.0034 - accuracy: 0.9988    \n",
      "Epoch 98: saving model to model/keypoint_classifier/keypoint_classifier.hdf5\n",
      "223/223 [==============================] - 0s 609us/step - loss: 0.0031 - accuracy: 0.9989 - val_loss: 0.0043 - val_accuracy: 0.9987\n",
      "Epoch 99/1000\n",
      "119/223 [===============>..............] - ETA: 0s - loss: 0.0022 - accuracy: 0.9995    \n",
      "Epoch 99: saving model to model/keypoint_classifier/keypoint_classifier.hdf5\n",
      "223/223 [==============================] - 0s 615us/step - loss: 0.0029 - accuracy: 0.9992 - val_loss: 0.0061 - val_accuracy: 0.9985\n",
      "Epoch 100/1000\n",
      "119/223 [===============>..............] - ETA: 0s - loss: 0.0027 - accuracy: 0.9992\n",
      "Epoch 100: saving model to model/keypoint_classifier/keypoint_classifier.hdf5\n",
      "223/223 [==============================] - 0s 613us/step - loss: 0.0029 - accuracy: 0.9992 - val_loss: 0.0050 - val_accuracy: 0.9989\n",
      "Epoch 101/1000\n",
      "120/223 [===============>..............] - ETA: 0s - loss: 0.0019 - accuracy: 0.9993\n",
      "Epoch 101: saving model to model/keypoint_classifier/keypoint_classifier.hdf5\n",
      "223/223 [==============================] - 0s 610us/step - loss: 0.0026 - accuracy: 0.9993 - val_loss: 0.0059 - val_accuracy: 0.9984\n",
      "Epoch 102/1000\n",
      "119/223 [===============>..............] - ETA: 0s - loss: 0.0029 - accuracy: 0.9994\n",
      "Epoch 102: saving model to model/keypoint_classifier/keypoint_classifier.hdf5\n",
      "223/223 [==============================] - 0s 610us/step - loss: 0.0028 - accuracy: 0.9994 - val_loss: 0.0054 - val_accuracy: 0.9986\n",
      "Epoch 103/1000\n",
      "119/223 [===============>..............] - ETA: 0s - loss: 0.0020 - accuracy: 0.9995    \n",
      "Epoch 103: saving model to model/keypoint_classifier/keypoint_classifier.hdf5\n",
      "223/223 [==============================] - 0s 612us/step - loss: 0.0026 - accuracy: 0.9992 - val_loss: 0.0062 - val_accuracy: 0.9981\n",
      "Epoch 104/1000\n",
      "119/223 [===============>..............] - ETA: 0s - loss: 0.0021 - accuracy: 0.9994\n",
      "Epoch 104: saving model to model/keypoint_classifier/keypoint_classifier.hdf5\n",
      "223/223 [==============================] - 0s 618us/step - loss: 0.0026 - accuracy: 0.9993 - val_loss: 0.0047 - val_accuracy: 0.9986\n",
      "Epoch 105/1000\n",
      "119/223 [===============>..............] - ETA: 0s - loss: 0.0020 - accuracy: 0.9997    \n",
      "Epoch 105: saving model to model/keypoint_classifier/keypoint_classifier.hdf5\n",
      "223/223 [==============================] - 0s 612us/step - loss: 0.0024 - accuracy: 0.9995 - val_loss: 0.0042 - val_accuracy: 0.9986\n",
      "Epoch 106/1000\n",
      "121/223 [===============>..............] - ETA: 0s - loss: 0.0019 - accuracy: 0.9994\n",
      "Epoch 106: saving model to model/keypoint_classifier/keypoint_classifier.hdf5\n",
      "223/223 [==============================] - 0s 608us/step - loss: 0.0024 - accuracy: 0.9994 - val_loss: 0.0048 - val_accuracy: 0.9992\n",
      "Epoch 107/1000\n",
      "120/223 [===============>..............] - ETA: 0s - loss: 0.0018 - accuracy: 0.9994    \n",
      "Epoch 107: saving model to model/keypoint_classifier/keypoint_classifier.hdf5\n"
     ]
    },
    {
     "name": "stdout",
     "output_type": "stream",
     "text": [
      "223/223 [==============================] - 0s 614us/step - loss: 0.0022 - accuracy: 0.9994 - val_loss: 0.0050 - val_accuracy: 0.9984\n",
      "Epoch 108/1000\n",
      "119/223 [===============>..............] - ETA: 0s - loss: 0.0028 - accuracy: 0.9993    \n",
      "Epoch 108: saving model to model/keypoint_classifier/keypoint_classifier.hdf5\n",
      "223/223 [==============================] - 0s 611us/step - loss: 0.0025 - accuracy: 0.9993 - val_loss: 0.0047 - val_accuracy: 0.9989\n",
      "Epoch 109/1000\n",
      "120/223 [===============>..............] - ETA: 0s - loss: 0.0025 - accuracy: 0.9992    \n",
      "Epoch 109: saving model to model/keypoint_classifier/keypoint_classifier.hdf5\n",
      "223/223 [==============================] - 0s 611us/step - loss: 0.0025 - accuracy: 0.9993 - val_loss: 0.0046 - val_accuracy: 0.9983\n",
      "Epoch 110/1000\n",
      "122/223 [===============>..............] - ETA: 0s - loss: 0.0020 - accuracy: 0.9994    \n",
      "Epoch 110: saving model to model/keypoint_classifier/keypoint_classifier.hdf5\n",
      "223/223 [==============================] - 0s 606us/step - loss: 0.0026 - accuracy: 0.9992 - val_loss: 0.0048 - val_accuracy: 0.9985\n",
      "Epoch 111/1000\n",
      "120/223 [===============>..............] - ETA: 0s - loss: 0.0021 - accuracy: 0.9996    \n",
      "Epoch 111: saving model to model/keypoint_classifier/keypoint_classifier.hdf5\n",
      "223/223 [==============================] - 0s 615us/step - loss: 0.0021 - accuracy: 0.9996 - val_loss: 0.0044 - val_accuracy: 0.9985\n",
      "Epoch 112/1000\n",
      "120/223 [===============>..............] - ETA: 0s - loss: 0.0021 - accuracy: 0.9995    \n",
      "Epoch 112: saving model to model/keypoint_classifier/keypoint_classifier.hdf5\n",
      "223/223 [==============================] - 0s 608us/step - loss: 0.0019 - accuracy: 0.9995 - val_loss: 0.0051 - val_accuracy: 0.9989\n",
      "Epoch 113/1000\n",
      "121/223 [===============>..............] - ETA: 0s - loss: 0.0023 - accuracy: 0.9993    \n",
      "Epoch 113: saving model to model/keypoint_classifier/keypoint_classifier.hdf5\n",
      "223/223 [==============================] - 0s 604us/step - loss: 0.0020 - accuracy: 0.9994 - val_loss: 0.0045 - val_accuracy: 0.9987\n",
      "Epoch 114/1000\n",
      "121/223 [===============>..............] - ETA: 0s - loss: 0.0024 - accuracy: 0.9995\n",
      "Epoch 114: saving model to model/keypoint_classifier/keypoint_classifier.hdf5\n",
      "223/223 [==============================] - 0s 615us/step - loss: 0.0021 - accuracy: 0.9995 - val_loss: 0.0046 - val_accuracy: 0.9992\n",
      "Epoch 115/1000\n",
      "121/223 [===============>..............] - ETA: 0s - loss: 0.0019 - accuracy: 0.9997\n",
      "Epoch 115: saving model to model/keypoint_classifier/keypoint_classifier.hdf5\n",
      "223/223 [==============================] - 0s 606us/step - loss: 0.0023 - accuracy: 0.9994 - val_loss: 0.0043 - val_accuracy: 0.9987\n",
      "Epoch 116/1000\n",
      "121/223 [===============>..............] - ETA: 0s - loss: 0.0016 - accuracy: 0.9994    \n",
      "Epoch 116: saving model to model/keypoint_classifier/keypoint_classifier.hdf5\n",
      "223/223 [==============================] - 0s 608us/step - loss: 0.0019 - accuracy: 0.9994 - val_loss: 0.0045 - val_accuracy: 0.9986\n",
      "Epoch 117/1000\n",
      "119/223 [===============>..............] - ETA: 0s - loss: 0.0024 - accuracy: 0.9993\n",
      "Epoch 117: saving model to model/keypoint_classifier/keypoint_classifier.hdf5\n",
      "223/223 [==============================] - 0s 610us/step - loss: 0.0021 - accuracy: 0.9995 - val_loss: 0.0050 - val_accuracy: 0.9987\n",
      "Epoch 118/1000\n",
      "120/223 [===============>..............] - ETA: 0s - loss: 0.0023 - accuracy: 0.9995    \n",
      "Epoch 118: saving model to model/keypoint_classifier/keypoint_classifier.hdf5\n",
      "223/223 [==============================] - 0s 608us/step - loss: 0.0020 - accuracy: 0.9995 - val_loss: 0.0044 - val_accuracy: 0.9991\n",
      "Epoch 119/1000\n",
      "121/223 [===============>..............] - ETA: 0s - loss: 0.0013 - accuracy: 0.9996    \n",
      "Epoch 119: saving model to model/keypoint_classifier/keypoint_classifier.hdf5\n",
      "223/223 [==============================] - 0s 619us/step - loss: 0.0019 - accuracy: 0.9994 - val_loss: 0.0048 - val_accuracy: 0.9988\n",
      "Epoch 120/1000\n",
      "120/223 [===============>..............] - ETA: 0s - loss: 0.0019 - accuracy: 0.9995    \n",
      "Epoch 120: saving model to model/keypoint_classifier/keypoint_classifier.hdf5\n",
      "223/223 [==============================] - 0s 611us/step - loss: 0.0019 - accuracy: 0.9996 - val_loss: 0.0046 - val_accuracy: 0.9991\n",
      "Epoch 121/1000\n",
      "118/223 [==============>...............] - ETA: 0s - loss: 0.0013 - accuracy: 0.9997    \n",
      "Epoch 121: saving model to model/keypoint_classifier/keypoint_classifier.hdf5\n",
      "223/223 [==============================] - 0s 613us/step - loss: 0.0021 - accuracy: 0.9993 - val_loss: 0.0054 - val_accuracy: 0.9985\n",
      "Epoch 122/1000\n",
      "118/223 [==============>...............] - ETA: 0s - loss: 0.0017 - accuracy: 0.9995    \n",
      "Epoch 122: saving model to model/keypoint_classifier/keypoint_classifier.hdf5\n",
      "223/223 [==============================] - 0s 616us/step - loss: 0.0019 - accuracy: 0.9995 - val_loss: 0.0044 - val_accuracy: 0.9991\n",
      "Epoch 123/1000\n",
      "122/223 [===============>..............] - ETA: 0s - loss: 0.0010 - accuracy: 0.9999    \n",
      "Epoch 123: saving model to model/keypoint_classifier/keypoint_classifier.hdf5\n",
      "223/223 [==============================] - 0s 604us/step - loss: 0.0016 - accuracy: 0.9996 - val_loss: 0.0046 - val_accuracy: 0.9991\n",
      "Epoch 124/1000\n",
      "122/223 [===============>..............] - ETA: 0s - loss: 9.5362e-04 - accuracy: 0.9997\n",
      "Epoch 124: saving model to model/keypoint_classifier/keypoint_classifier.hdf5\n",
      "223/223 [==============================] - 0s 608us/step - loss: 0.0019 - accuracy: 0.9995 - val_loss: 0.0051 - val_accuracy: 0.9985\n",
      "Epoch 125/1000\n",
      "119/223 [===============>..............] - ETA: 0s - loss: 0.0015 - accuracy: 0.9996\n",
      "Epoch 125: saving model to model/keypoint_classifier/keypoint_classifier.hdf5\n",
      "223/223 [==============================] - 0s 607us/step - loss: 0.0016 - accuracy: 0.9995 - val_loss: 0.0047 - val_accuracy: 0.9991\n",
      "Epoch 125: early stopping\n"
     ]
    }
   ],
   "source": [
    "#while(1):\n",
    "history = model.fit(\n",
    "    X_train,\n",
    "    y_train,\n",
    "    epochs=1000,\n",
    "    batch_size=128,\n",
    "    validation_data=(X_test, y_test),\n",
    "    callbacks=[cp_callback, es_callback]\n",
    ")\n",
    "    # Model evaluation\n",
    "\n",
    " #   if(val_acc>0.97):\n",
    "  #      break"
   ]
  },
  {
   "cell_type": "code",
   "execution_count": 12,
   "metadata": {
    "colab": {
     "base_uri": "https://localhost:8080/"
    },
    "id": "pxvb2Y299hE3",
    "outputId": "59eb3185-2e37-4b9e-bc9d-ab1b8ac29b7f"
   },
   "outputs": [
    {
     "name": "stdout",
     "output_type": "stream",
     "text": [
      "75/75 [==============================] - 0s 440us/step - loss: 0.0047 - accuracy: 0.9991\n"
     ]
    }
   ],
   "source": [
    "val_loss, val_acc = model.evaluate(X_test, y_test, batch_size=128)"
   ]
  },
  {
   "cell_type": "code",
   "execution_count": 13,
   "metadata": {
    "id": "RBkmDeUW9hE4"
   },
   "outputs": [],
   "source": [
    "# Loading the saved model\n",
    "model = tf.keras.models.load_model(model_save_path)"
   ]
  },
  {
   "cell_type": "code",
   "execution_count": 14,
   "metadata": {
    "colab": {
     "base_uri": "https://localhost:8080/"
    },
    "id": "tFz9Tb0I9hE4",
    "outputId": "1c3b3528-54ae-4ee2-ab04-77429211cbef"
   },
   "outputs": [
    {
     "name": "stdout",
     "output_type": "stream",
     "text": [
      "1/1 [==============================] - 0s 31ms/step\n",
      "[6.73681616e-18 1.03927809e-34 3.26148652e-21 1.71668777e-13\n",
      " 3.36444869e-12 0.00000000e+00 3.58915018e-16 1.16656455e-17\n",
      " 1.00000000e+00 1.84615817e-28]\n",
      "8\n"
     ]
    }
   ],
   "source": [
    "# Inference test\n",
    "predict_result = model.predict(np.array([X_test[0]]))\n",
    "print(np.squeeze(predict_result))\n",
    "print(np.argmax(np.squeeze(predict_result)))"
   ]
  },
  {
   "cell_type": "code",
   "execution_count": 15,
   "metadata": {},
   "outputs": [
    {
     "name": "stdout",
     "output_type": "stream",
     "text": [
      "list of layers : [<keras.layers.core.dense.Dense object at 0x282560160>, <keras.layers.core.dense.Dense object at 0x28072adf0>, <keras.layers.core.dense.Dense object at 0x28254e070>]\n",
      "\n",
      "model.layers[1].name : dense_1\n"
     ]
    }
   ],
   "source": [
    "print(\"list of layers :\",model.layers)\n",
    "print(\"\\nmodel.layers[1].name :\",model.layers[1].name)\n",
    "#print(\"\\nmodel.get_layer('dense_1') :\",model.get_layer('dense_18'))"
   ]
  },
  {
   "cell_type": "code",
   "execution_count": 16,
   "metadata": {},
   "outputs": [
    {
     "name": "stdout",
     "output_type": "stream",
     "text": [
      "<keras.layers.core.dense.Dense object at 0x28072adf0>\n"
     ]
    }
   ],
   "source": [
    "hidden1 = model.layers[1]\n",
    "\n",
    "weights, bias = hidden1.get_weights()\n",
    "\n",
    "print(hidden1)"
   ]
  },
  {
   "cell_type": "markdown",
   "metadata": {},
   "source": [
    "# Model epoch graph"
   ]
  },
  {
   "cell_type": "code",
   "execution_count": 17,
   "metadata": {},
   "outputs": [
    {
     "data": {
      "image/png": "[encoded data removed]",
      "text/plain": [
       "<Figure size 640x480 with 1 Axes>"
      ]
     },
     "metadata": {},
     "output_type": "display_data"
    }
   ],
   "source": [
    "import pandas as pd\n",
    "import matplotlib.pyplot as plt\n",
    "\n",
    "pd.DataFrame(history.history).plot()\n",
    "plt.xlabel(\"epoch\")\n",
    "plt.legend(bbox_to_anchor=(1.05, 1), loc=2)\n",
    "plt.show()"
   ]
  },
  {
   "cell_type": "markdown",
   "metadata": {
    "id": "S3U4yNWx9hE4"
   },
   "source": [
    "# Confusion matrix"
   ]
  },
  {
   "cell_type": "code",
   "execution_count": 18,
   "metadata": {
    "colab": {
     "base_uri": "https://localhost:8080/",
     "height": 582
    },
    "id": "AP1V6SCk9hE5",
    "outputId": "08e41a80-7a4a-4619-8125-ecc371368d19"
   },
   "outputs": [
    {
     "name": "stdout",
     "output_type": "stream",
     "text": [
      "297/297 [==============================] - 0s 326us/step\n"
     ]
    },
    {
     "data": {
      "image/png": "[encoded data removed]",
      "text/plain": [
       "<Figure size 700x600 with 2 Axes>"
      ]
     },
     "metadata": {},
     "output_type": "display_data"
    },
    {
     "name": "stdout",
     "output_type": "stream",
     "text": [
      "Classification Report\n",
      "              precision    recall  f1-score   support\n",
      "\n",
      "           0       1.00      1.00      1.00       733\n",
      "           1       1.00      1.00      1.00       930\n",
      "           2       1.00      0.99      1.00       734\n",
      "           3       1.00      1.00      1.00      1257\n",
      "           4       1.00      1.00      1.00       951\n",
      "           5       1.00      1.00      1.00      1002\n",
      "           6       1.00      1.00      1.00       905\n",
      "           7       1.00      1.00      1.00      1107\n",
      "           8       1.00      1.00      1.00      1093\n",
      "           9       1.00      1.00      1.00       782\n",
      "\n",
      "    accuracy                           1.00      9494\n",
      "   macro avg       1.00      1.00      1.00      9494\n",
      "weighted avg       1.00      1.00      1.00      9494\n",
      "\n"
     ]
    }
   ],
   "source": [
    "import pandas as pd\n",
    "import seaborn as sns\n",
    "import matplotlib.pyplot as plt\n",
    "from sklearn.metrics import confusion_matrix, classification_report\n",
    "\n",
    "def print_confusion_matrix(y_true, y_pred, report=True):\n",
    "    labels = sorted(list(set(y_true)))\n",
    "    cmx_data = confusion_matrix(y_true, y_pred, labels=labels)\n",
    "    \n",
    "    df_cmx = pd.DataFrame(cmx_data, index=labels, columns=labels)\n",
    " \n",
    "    fig, ax = plt.subplots(figsize=(7, 6))\n",
    "    sns.heatmap(df_cmx, annot=True, fmt='g' ,square=False)\n",
    "    ax.set_ylim(len(set(y_true)), 0)\n",
    "    plt.show()\n",
    "    \n",
    "    if report:\n",
    "        print('Classification Report')\n",
    "        print(classification_report(y_test, y_pred))\n",
    "        \n",
    "\n",
    "Y_pred = model.predict(X_test)\n",
    "y_pred = np.argmax(Y_pred, axis=1)\n",
    "\n",
    "print_confusion_matrix(y_test, y_pred)"
   ]
  },
  {
   "cell_type": "markdown",
   "metadata": {
    "id": "FNP6aqzc9hE5"
   },
   "source": [
    "# Convert to model for Tensorflow-Lite"
   ]
  },
  {
   "cell_type": "code",
   "execution_count": 19,
   "metadata": {
    "id": "ODjnYyld9hE6"
   },
   "outputs": [],
   "source": [
    "# Save as a model dedicated to inference\n",
    "model.save(model_save_path, include_optimizer=False)"
   ]
  },
  {
   "cell_type": "code",
   "execution_count": 20,
   "metadata": {
    "colab": {
     "base_uri": "https://localhost:8080/"
    },
    "id": "zRfuK8Y59hE6",
    "outputId": "a4ca585c-b5d5-4244-8291-8674063209bb"
   },
   "outputs": [
    {
     "name": "stderr",
     "output_type": "stream",
     "text": [
      "WARNING:absl:Found untraced functions such as _update_step_xla while saving (showing 1 of 1). These functions will not be directly callable after loading.\n"
     ]
    },
    {
     "name": "stdout",
     "output_type": "stream",
     "text": [
      "INFO:tensorflow:Assets written to: /var/folders/8q/vlmnznqn30j_xgpcjqgc1cnm0000gn/T/tmpd5sz6o74/assets\n"
     ]
    },
    {
     "name": "stderr",
     "output_type": "stream",
     "text": [
      "INFO:tensorflow:Assets written to: /var/folders/8q/vlmnznqn30j_xgpcjqgc1cnm0000gn/T/tmpd5sz6o74/assets\n",
      "2023-01-19 13:35:59.609000: W tensorflow/compiler/mlir/lite/python/tf_tfl_flatbuffer_helpers.cc:362] Ignored output_format.\n",
      "2023-01-19 13:35:59.609022: W tensorflow/compiler/mlir/lite/python/tf_tfl_flatbuffer_helpers.cc:365] Ignored drop_control_dependency.\n",
      "2023-01-19 13:35:59.610630: I tensorflow/cc/saved_model/reader.cc:45] Reading SavedModel from: /var/folders/8q/vlmnznqn30j_xgpcjqgc1cnm0000gn/T/tmpd5sz6o74\n",
      "2023-01-19 13:35:59.611157: I tensorflow/cc/saved_model/reader.cc:89] Reading meta graph with tags { serve }\n",
      "2023-01-19 13:35:59.611162: I tensorflow/cc/saved_model/reader.cc:130] Reading SavedModel debug info (if present) from: /var/folders/8q/vlmnznqn30j_xgpcjqgc1cnm0000gn/T/tmpd5sz6o74\n",
      "2023-01-19 13:35:59.612544: I tensorflow/compiler/mlir/mlir_graph_optimization_pass.cc:357] MLIR V1 optimization pass is not enabled\n",
      "2023-01-19 13:35:59.612941: I tensorflow/cc/saved_model/loader.cc:229] Restoring SavedModel bundle.\n",
      "2023-01-19 13:35:59.631953: I tensorflow/cc/saved_model/loader.cc:213] Running initialization op on SavedModel bundle at path: /var/folders/8q/vlmnznqn30j_xgpcjqgc1cnm0000gn/T/tmpd5sz6o74\n",
      "2023-01-19 13:35:59.636203: I tensorflow/cc/saved_model/loader.cc:305] SavedModel load for tags { serve }; Status: success: OK. Took 25764 microseconds.\n",
      "2023-01-19 13:35:59.646160: I tensorflow/compiler/mlir/tensorflow/utils/dump_mlir_util.cc:268] disabling MLIR crash reproducer, set env var `MLIR_CRASH_REPRODUCER_DIRECTORY` to enable.\n"
     ]
    },
    {
     "data": {
      "text/plain": [
       "6808"
      ]
     },
     "execution_count": 20,
     "metadata": {},
     "output_type": "execute_result"
    }
   ],
   "source": [
    "# Transform model (quantization)\n",
    "\n",
    "converter = tf.lite.TFLiteConverter.from_keras_model(model)\n",
    "converter.optimizations = [tf.lite.Optimize.DEFAULT]\n",
    "tflite_quantized_model = converter.convert()\n",
    "\n",
    "open(tflite_save_path, 'wb').write(tflite_quantized_model)"
   ]
  }
 ],
 "metadata": {
  "accelerator": "GPU",
  "colab": {
   "collapsed_sections": [],
   "name": "keypoint_classification_EN.ipynb",
   "provenance": [],
   "toc_visible": true
  },
  "kernelspec": {
   "display_name": "mediapipe",
   "language": "python",
   "name": "mediapipe"
  },
  "language_info": {
   "codemirror_mode": {
    "name": "ipython",
    "version": 3
   },
   "file_extension": ".py",
   "mimetype": "text/x-python",
   "name": "python",
   "nbconvert_exporter": "python",
   "pygments_lexer": "ipython3",
   "version": "3.8.15"
  }
 },
 "nbformat": 4,
 "nbformat_minor": 1
}
